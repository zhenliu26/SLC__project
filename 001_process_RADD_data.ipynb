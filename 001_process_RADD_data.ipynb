{
 "cells": [
  {
   "cell_type": "code",
   "execution_count": 1,
   "metadata": {
    "collapsed": true,
    "pycharm": {
     "name": "#%%\n"
    }
   },
   "outputs": [],
   "source": [
    "from osgeo import gdal\n",
    "import numpy as np"
   ]
  },
  {
   "cell_type": "code",
   "execution_count": 2,
   "outputs": [],
   "source": [
    "def output_same(data, template_file_name, output_name, data_type=None):\n",
    "    \"\"\"\n",
    "This function is to output a raster using a template so that users don't need to define the driver of gdal.\n",
    "    :param data: the raster data you want to save, it should be numpy array. It should be channel first\n",
    "    :param template_file_name:\n",
    "    :param output_name:\n",
    "    :param data_type:\n",
    "    \"\"\"\n",
    "    gtif = gdal.Open(template_file_name)\n",
    "    ## get the first band in the file\n",
    "    band = gtif.GetRasterBand(1)\n",
    "    if (data_type == None):\n",
    "        data_type = band.DataType\n",
    "    if (len(data.shape) == 2):\n",
    "        data = np.expand_dims(data, axis=0)\n",
    "    ## get the rows and cols of the input file\n",
    "    rows = gtif.RasterYSize\n",
    "    cols = gtif.RasterXSize\n",
    "    output_format = output_name.split('.')[-1].upper()\n",
    "    if (output_format == 'TIF'):\n",
    "        output_format = 'GTIFF'\n",
    "    elif (output_format == 'RST'):\n",
    "        output_format = 'rst'\n",
    "    driver = gdal.GetDriverByName(output_format)\n",
    "    outDs = driver.Create(output_name, cols, rows, len(data), data_type)\n",
    "    for i in range(len(data)):\n",
    "        outBand = outDs.GetRasterBand(i + 1)\n",
    "        outBand.WriteArray(data[i])\n",
    "    # georeference the image and set the projection\n",
    "    outDs.SetGeoTransform(gtif.GetGeoTransform())\n",
    "    outDs.SetProjection(gtif.GetProjection())\n",
    "    outDs.FlushCache()\n",
    "    ## need to release the driver\n",
    "    del outDs\n",
    "    return output_name"
   ],
   "metadata": {
    "collapsed": false,
    "pycharm": {
     "name": "#%%\n"
    }
   }
  },
  {
   "cell_type": "code",
   "execution_count": 3,
   "outputs": [],
   "source": [
    "file_name = r'C:\\Users\\zliu1997\\Desktop\\final_project\\ancillary data\\c10S_060W_Clip.tif'\n",
    "ds = gdal.Open(file_name)\n",
    "array = ds.GetRasterBand(1).ReadAsArray()"
   ],
   "metadata": {
    "collapsed": false,
    "pycharm": {
     "name": "#%%\n"
    }
   }
  },
  {
   "cell_type": "code",
   "execution_count": 4,
   "outputs": [
    {
     "data": {
      "text/plain": "array([[0, 0, 0, ..., 0, 0, 0],\n       [0, 0, 0, ..., 0, 0, 0],\n       [0, 0, 0, ..., 0, 0, 0],\n       ...,\n       [0, 0, 0, ..., 0, 0, 0],\n       [0, 0, 0, ..., 0, 0, 0],\n       [0, 0, 0, ..., 0, 0, 0]], dtype=uint16)"
     },
     "execution_count": 4,
     "metadata": {},
     "output_type": "execute_result"
    }
   ],
   "source": [
    "array"
   ],
   "metadata": {
    "collapsed": false,
    "pycharm": {
     "name": "#%%\n"
    }
   }
  },
  {
   "cell_type": "code",
   "execution_count": 5,
   "outputs": [
    {
     "data": {
      "text/plain": "2015"
     },
     "execution_count": 5,
     "metadata": {},
     "output_type": "execute_result"
    }
   ],
   "source": [
    "from datetime import date, timedelta\n",
    "def date_transform(number):\n",
    "    d0 = date(2014, 12, 31)\n",
    "    delta = timedelta(number)\n",
    "    d1 = d0+delta\n",
    "    return d1\n",
    "\n",
    "date_transform(1).year"
   ],
   "metadata": {
    "collapsed": false,
    "pycharm": {
     "name": "#%%\n"
    }
   }
  },
  {
   "cell_type": "code",
   "execution_count": 6,
   "outputs": [
    {
     "data": {
      "text/plain": "(5646, 5671)"
     },
     "execution_count": 6,
     "metadata": {},
     "output_type": "execute_result"
    }
   ],
   "source": [
    "array.shape"
   ],
   "metadata": {
    "collapsed": false,
    "pycharm": {
     "name": "#%%\n"
    }
   }
  },
  {
   "cell_type": "code",
   "execution_count": 20,
   "outputs": [],
   "source": [
    "res_array = np.zeros_like(array)\n",
    "for i in range(array.shape[0]):\n",
    "    for j in range(array.shape[1]):\n",
    "        date_1 = date_transform(int(array[i,j]%10000))\n",
    "        intensity = array[i,j]/10000\n",
    "        if((date_1.year>2022) and (date_1.month>4)):\n",
    "            res_array[i,j]=1"
   ],
   "metadata": {
    "collapsed": false,
    "pycharm": {
     "name": "#%%\n"
    }
   }
  },
  {
   "cell_type": "code",
   "execution_count": 16,
   "outputs": [
    {
     "data": {
      "text/plain": "int"
     },
     "execution_count": 16,
     "metadata": {},
     "output_type": "execute_result"
    }
   ],
   "source": [
    "type(int(array[0,0]))"
   ],
   "metadata": {
    "collapsed": false,
    "pycharm": {
     "name": "#%%\n"
    }
   }
  },
  {
   "cell_type": "code",
   "execution_count": 23,
   "outputs": [
    {
     "data": {
      "text/plain": "0"
     },
     "execution_count": 23,
     "metadata": {},
     "output_type": "execute_result"
    }
   ],
   "source": [
    "np.max(res_array)"
   ],
   "metadata": {
    "collapsed": false,
    "pycharm": {
     "name": "#%%\n"
    }
   }
  },
  {
   "cell_type": "code",
   "execution_count": 21,
   "outputs": [
    {
     "data": {
      "text/plain": "'C:\\\\Users\\\\zliu1997\\\\Desktop\\\\final_project\\\\ancillary data\\\\c10S_060W_Clip_date_2022_5.tif'"
     },
     "execution_count": 21,
     "metadata": {},
     "output_type": "execute_result"
    }
   ],
   "source": [
    "output_same(res_array,file_name,file_name.replace('.tif','_date_2022_5.tif'),gdal.GDT_Int16)"
   ],
   "metadata": {
    "collapsed": false,
    "pycharm": {
     "name": "#%%\n"
    }
   }
  },
  {
   "cell_type": "code",
   "execution_count": null,
   "outputs": [],
   "source": [],
   "metadata": {
    "collapsed": false,
    "pycharm": {
     "name": "#%%\n"
    }
   }
  }
 ],
 "metadata": {
  "kernelspec": {
   "display_name": "Python 3",
   "language": "python",
   "name": "python3"
  },
  "language_info": {
   "codemirror_mode": {
    "name": "ipython",
    "version": 2
   },
   "file_extension": ".py",
   "mimetype": "text/x-python",
   "name": "python",
   "nbconvert_exporter": "python",
   "pygments_lexer": "ipython2",
   "version": "2.7.6"
  }
 },
 "nbformat": 4,
 "nbformat_minor": 0
}