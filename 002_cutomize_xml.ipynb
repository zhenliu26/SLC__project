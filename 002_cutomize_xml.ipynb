{
 "cells": [
  {
   "cell_type": "code",
   "execution_count": 1,
   "metadata": {
    "collapsed": true,
    "pycharm": {
     "name": "#%%\n"
    }
   },
   "outputs": [],
   "source": [
    "import xml.etree.ElementTree as ET\n",
    "import xmltodict\n",
    "import os"
   ]
  },
  {
   "cell_type": "code",
   "execution_count": 2,
   "outputs": [],
   "source": [
    "file_path = r'C:\\Users\\zliu1997\\Desktop\\final_project\\Test_XML_TC.xml'\n",
    "data_folder = r'C:\\Users\\zliu1997\\Desktop\\final_project\\2022_Feb'"
   ],
   "metadata": {
    "collapsed": false,
    "pycharm": {
     "name": "#%%\n"
    }
   }
  },
  {
   "cell_type": "code",
   "execution_count": 3,
   "outputs": [],
   "source": [
    "monthDict={1:'Jan', 2:'Feb', 3:'Mar', 4:'Apr', 5:'May', 6:'Jun', 7:'Jul', 8:'Aug', 9:'Sep', 10:'Oct', 11:'Nov', 12:'Dec'}"
   ],
   "metadata": {
    "collapsed": false,
    "pycharm": {
     "name": "#%%\n"
    }
   }
  },
  {
   "cell_type": "code",
   "execution_count": 4,
   "outputs": [],
   "source": [
    "with open(file_path) as fd:\n",
    "    doc = xmltodict.parse(fd.read())\n",
    "operation_order = {}\n",
    "order_count = 0\n",
    "for i in doc['graph']['node']:\n",
    "    operation_order[i['@id']] = order_count\n",
    "    order_count += 1"
   ],
   "metadata": {
    "collapsed": false,
    "pycharm": {
     "name": "#%%\n"
    }
   }
  },
  {
   "cell_type": "code",
   "execution_count": 5,
   "outputs": [
    {
     "data": {
      "text/plain": "{'Read': 0,\n 'Read(2)': 1,\n 'TOPSAR-Split': 2,\n 'TOPSAR-Split(2)': 3,\n 'Apply-Orbit-File': 4,\n 'Apply-Orbit-File(2)': 5,\n 'Back-Geocoding': 6,\n 'Interferogram': 7,\n 'TOPSAR-Deburst': 8,\n 'Subset': 9,\n 'Terrain-Correction': 10,\n 'Write': 11}"
     },
     "execution_count": 5,
     "metadata": {},
     "output_type": "execute_result"
    }
   ],
   "source": [
    "operation_order"
   ],
   "metadata": {
    "collapsed": false,
    "pycharm": {
     "name": "#%%\n"
    }
   }
  },
  {
   "cell_type": "code",
   "execution_count": 7,
   "outputs": [
    {
     "name": "stdout",
     "output_type": "stream",
     "text": [
      "coh_IW1_VV_11Feb2022_23Feb2022\n",
      "C:\\Users\\zliu1997\\Desktop\\final_project\\results\\coherence_0211_0223_2022\n",
      "coh_IW1_VV_23Feb2022_07Mar2022\n",
      "C:\\Users\\zliu1997\\Desktop\\final_project\\results\\coherence_0223_0307_2022\n",
      "coh_IW1_VV_07Mar2022_19Mar2022\n",
      "C:\\Users\\zliu1997\\Desktop\\final_project\\results\\coherence_0307_0319_2022\n",
      "coh_IW1_VV_19Mar2022_31Mar2022\n",
      "C:\\Users\\zliu1997\\Desktop\\final_project\\results\\coherence_0319_0331_2022\n"
     ]
    }
   ],
   "source": [
    "file_name_list = [i for i in os.listdir(data_folder)]\n",
    "for i in range(len(file_name_list)-1):\n",
    "    file_path_1 = os.path.join(data_folder,file_name_list[i])\n",
    "    file_path_2 = os.path.join(data_folder,file_name_list[i+1])\n",
    "    file_name_1 = file_name_list[i]\n",
    "    file_name_2 = file_name_list[i+1]\n",
    "    file_date_1 = file_name_1.split('_')[5].split('T')[0]\n",
    "    file_date_2 = file_name_2.split('_')[5].split('T')[0]\n",
    "    file_exact_month_1 = int(file_date_1[4:6])\n",
    "    file_exact_month_2 = int(file_date_2[4:6])\n",
    "    coh_band_name = 'coh_IW1_VV_'+file_date_1[6:]+monthDict[file_exact_month_1]+file_date_1[:4]+'_'+file_date_2[6:]+monthDict[file_exact_month_2]+file_date_2[:4]\n",
    "    print(coh_band_name)\n",
    "    output_file_name = os.path.join(r\"C:\\Users\\zliu1997\\Desktop\\final_project\\results\",'coherence'+'_'+file_date_1[4:]+'_'+file_date_2[4:]+'_'+file_date_1[:4])\n",
    "    print(output_file_name)\n",
    "    with open(file_path) as fd:\n",
    "        doc = xmltodict.parse(fd.read())\n",
    "        doc['graph']['node'][operation_order['Read']]['parameters']['file']=file_path_1\n",
    "        doc['graph']['node'][operation_order['Read(2)']]['parameters']['file']=file_path_2\n",
    "        doc['graph']['node'][operation_order['Subset']]['parameters']['sourceBands'] = coh_band_name\n",
    "        doc['graph']['node'][operation_order['Terrain-Correction']]['parameters']['sourceBands'] = coh_band_name\n",
    "        doc['graph']['node'][operation_order['Write']]['parameters']['file'] = output_file_name\n",
    "\n",
    "    with open('example_'+file_date_1[4:]+'_'+file_date_2[4:]+'_'+file_date_1[:4]+'.xml', 'w') as result_file:\n",
    "        result_file.write(xmltodict.unparse(doc))\n"
   ],
   "metadata": {
    "collapsed": false,
    "pycharm": {
     "name": "#%%\n"
    }
   }
  },
  {
   "cell_type": "code",
   "execution_count": 61,
   "outputs": [
    {
     "data": {
      "text/plain": "'C:\\\\Users\\\\zliu1997\\\\Desktop\\\\final_project\\\\results\\\\coherance.tif'"
     },
     "execution_count": 61,
     "metadata": {},
     "output_type": "execute_result"
    }
   ],
   "source": [
    "doc['graph']['node'][operation_order['Write']]['parameters']['file']"
   ],
   "metadata": {
    "collapsed": false,
    "pycharm": {
     "name": "#%%\n"
    }
   }
  },
  {
   "cell_type": "code",
   "execution_count": 41,
   "outputs": [
    {
     "data": {
      "text/plain": "{'Read': 0,\n 'Read(2)': 1,\n 'TOPSAR-Split': 2,\n 'TOPSAR-Split(2)': 3,\n 'Apply-Orbit-File': 4,\n 'Apply-Orbit-File(2)': 5,\n 'Back-Geocoding': 6,\n 'Interferogram': 7,\n 'TOPSAR-Deburst': 8,\n 'Subset': 9,\n 'Terrain-Correction': 10,\n 'Write': 11}"
     },
     "execution_count": 41,
     "metadata": {},
     "output_type": "execute_result"
    }
   ],
   "source": [
    "operation_order"
   ],
   "metadata": {
    "collapsed": false,
    "pycharm": {
     "name": "#%%\n"
    }
   }
  },
  {
   "cell_type": "code",
   "execution_count": 30,
   "outputs": [],
   "source": [
    "with open('example.xml', 'w') as result_file:\n",
    "    result_file.write(xmltodict.unparse(doc))"
   ],
   "metadata": {
    "collapsed": false,
    "pycharm": {
     "name": "#%%\n"
    }
   }
  },
  {
   "cell_type": "code",
   "execution_count": 23,
   "outputs": [
    {
     "name": "stdout",
     "output_type": "stream",
     "text": [
      "C:\\ss\\s\n"
     ]
    }
   ],
   "source": [
    "print(r'C:\\ss\\s')"
   ],
   "metadata": {
    "collapsed": false,
    "pycharm": {
     "name": "#%%\n"
    }
   }
  },
  {
   "cell_type": "code",
   "execution_count": null,
   "outputs": [],
   "source": [],
   "metadata": {
    "collapsed": false,
    "pycharm": {
     "name": "#%%\n"
    }
   }
  }
 ],
 "metadata": {
  "kernelspec": {
   "display_name": "Python 3",
   "language": "python",
   "name": "python3"
  },
  "language_info": {
   "codemirror_mode": {
    "name": "ipython",
    "version": 2
   },
   "file_extension": ".py",
   "mimetype": "text/x-python",
   "name": "python",
   "nbconvert_exporter": "python",
   "pygments_lexer": "ipython2",
   "version": "2.7.6"
  }
 },
 "nbformat": 4,
 "nbformat_minor": 0
}